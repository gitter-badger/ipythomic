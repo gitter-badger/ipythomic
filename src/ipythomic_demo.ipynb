{
 "metadata": {
  "name": "",
  "signature": "sha256:42cd8356c658fb8fe9bdb4e466640acdbf0fb099d7409a985f23828719e25920"
 },
 "nbformat": 3,
 "nbformat_minor": 0,
 "worksheets": [
  {
   "cells": [
    {
     "cell_type": "heading",
     "level": 1,
     "metadata": {},
     "source": [
      "Basic example of real time data visualization in IPython notebook"
     ]
    },
    {
     "cell_type": "code",
     "collapsed": false,
     "input": [
      "from ipythomic import MicrophoneWidget"
     ],
     "language": "python",
     "metadata": {},
     "outputs": []
    },
    {
     "cell_type": "code",
     "collapsed": false,
     "input": [
      "# Be sure that your microphone works! Don't have a microphone? Try redirecting your speakers to your microphone!\n",
      "mic = MicrophoneWidget()"
     ],
     "language": "python",
     "metadata": {},
     "outputs": []
    },
    {
     "cell_type": "code",
     "collapsed": false,
     "input": [
      "mic  # Display the Widget"
     ],
     "language": "python",
     "metadata": {},
     "outputs": []
    },
    {
     "cell_type": "heading",
     "level": 3,
     "metadata": {},
     "source": [
      "Change display by clicking Lines or Bars"
     ]
    },
    {
     "cell_type": "heading",
     "level": 3,
     "metadata": {},
     "source": [
      "Change attributes from Python and it updates in JavaScript."
     ]
    },
    {
     "cell_type": "code",
     "collapsed": false,
     "input": [
      "mic.thickness = 15"
     ],
     "language": "python",
     "metadata": {},
     "outputs": []
    },
    {
     "cell_type": "code",
     "collapsed": false,
     "input": [
      "mic.background = 200"
     ],
     "language": "python",
     "metadata": {},
     "outputs": []
    }
   ],
   "metadata": {}
  }
 ]
}
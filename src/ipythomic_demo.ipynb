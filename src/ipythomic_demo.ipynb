{
 "metadata": {
  "name": "",
  "signature": "sha256:f37758c690cd1aeb76f8814bd10cd0bceef86e32a8a517de426e5bcd1f661a6b"
 },
 "nbformat": 3,
 "nbformat_minor": 0,
 "worksheets": [
  {
   "cells": [
    {
     "cell_type": "heading",
     "level": 1,
     "metadata": {},
     "source": [
      "Basic example of real time data visualization in IPython notebook"
     ]
    },
    {
     "cell_type": "code",
     "collapsed": false,
     "input": [
      "from ipythomic import MicrophoneWidget"
     ],
     "language": "python",
     "metadata": {},
     "outputs": [],
     "prompt_number": 1
    },
    {
     "cell_type": "code",
     "collapsed": false,
     "input": [
      "mic = MicrophoneWidget()  # Be sure that your microphone works!"
     ],
     "language": "python",
     "metadata": {},
     "outputs": [
      {
       "javascript": [
        "/* Load processing.js in the notebook. */\n",
        "IPython.load_extensions(\"processing.min\");\n",
        "\n",
        "require([\"widgets/js/widget\"], function(WidgetManager) {\n",
        "    /* Define the MicrophoneWidget */\n",
        "    var MicrophoneWidget = IPython.DOMWidgetView.extend({\n",
        "        render: function() {\n",
        "            /*** HTML ***/\n",
        "            /* Canvas */\n",
        "            this.$canvas = $('<canvas width=\"900\" height=\"500\" />')\n",
        "                .attr('id', 'canvas')\n",
        "                .attr('tabindex', '1')\n",
        "                .appendTo(this.$el);\n",
        "\n",
        "            /* Radio inputs */\n",
        "            var labelLine = $(\"<label>\").text('Lines ').appendTo(this.$el);\n",
        "            this.$graphLine = $('<input type=\"radio\" id=\"lines\" />')\n",
        "                .attr('name', 'gType')\n",
        "                .attr('checked', 'checked')\n",
        "                .attr('onclick', 'window.graphType = \"lines\";')\n",
        "                .attr('tabindex', '1')\n",
        "                .appendTo(labelLine);\n",
        "\n",
        "            var labelBar = $(\"<label>\").text('Bars ').appendTo(this.$el);\n",
        "            this.$graphBar = $('<input type=\"radio\" id=\"bars\" />')\n",
        "                .attr('name', 'gType')\n",
        "                .attr('onclick', 'window.graphType = \"bars\";')\n",
        "                .attr('tabindex', '1')\n",
        "                .appendTo(labelBar);\n",
        "\n",
        "            /*** SCRIPT ***/\n",
        "            /* Constants */\n",
        "            var WIDTH = this.$canvas[0].width;\n",
        "            var HEIGHT = this.$canvas[0].height;\n",
        "            var BARS = 50;\n",
        "            var SPACE = WIDTH / BARS;\n",
        "\n",
        "            /* Array contains mic signal level */\n",
        "            this.micArray = new Array();\n",
        "            for (var i = 0; i < BARS; i++)\n",
        "                this.micArray[i] = 0;\n",
        "\n",
        "            window.graphType = \"lines\";\n",
        "\n",
        "            /* Use processingjs for drawing */\n",
        "            function Visualization(processing) {\n",
        "                processing.size(WIDTH, HEIGHT);\n",
        "\n",
        "                processing.draw = function(micArray, thickness, background) {\n",
        "                    processing.strokeWeight(thickness);\n",
        "                    if (micArray != null) {\n",
        "                        /* Clear the screen */\n",
        "                        processing.background(background);\n",
        "                        if (window.graphType === \"lines\") {\n",
        "                            /* Draw delta = yleft - yprevious */\n",
        "                            for (var i = 0; i < WIDTH - SPACE; i += SPACE)\n",
        "                                processing.line(i + thickness,\n",
        "                                    HEIGHT - micArray[i / SPACE],\n",
        "                                    i + thickness,\n",
        "                                    HEIGHT - micArray[i / SPACE + 1]);\n",
        "                        } else if (window.graphType === \"bars\") {\n",
        "                            for (i = 0; i < WIDTH; i += SPACE)\n",
        "                                processing.line(i + thickness,\n",
        "                                    HEIGHT,\n",
        "                                    i +thickness,\n",
        "                                    HEIGHT - micArray[i / SPACE]);\n",
        "                        }\n",
        "                    }\n",
        "                }\n",
        "            }\n",
        "\n",
        "            this.graph = new Processing(this.$canvas[0], Visualization);\n",
        "        },\n",
        "\n",
        "        update: function() {\n",
        "            /* Update value */\n",
        "            var level = this.model.get('value');\n",
        "            this.micArray.shift();\n",
        "            this.micArray.push(level);\n",
        "            this.graph.draw(this.micArray,\n",
        "                            this.model.get('thickness'),\n",
        "                            this.model.get('background'));\n",
        "        },\n",
        "    });\n",
        "\n",
        "    /* Register the MicrophoneWidget with the widget manager. */\n",
        "    WidgetManager.register_widget_view('MicrophoneWidget', MicrophoneWidget);\n",
        "});\n"
       ],
       "metadata": {},
       "output_type": "display_data",
       "text": [
        "<IPython.core.display.Javascript object>"
       ]
      }
     ],
     "prompt_number": 2
    },
    {
     "cell_type": "code",
     "collapsed": false,
     "input": [
      "mic  # Display the Widget"
     ],
     "language": "python",
     "metadata": {},
     "outputs": [],
     "prompt_number": 3
    },
    {
     "cell_type": "heading",
     "level": 3,
     "metadata": {},
     "source": [
      "Change display by clicking Lines or Bars"
     ]
    },
    {
     "cell_type": "heading",
     "level": 3,
     "metadata": {},
     "source": [
      "Change attributes from Python and it updates in JavaScript."
     ]
    },
    {
     "cell_type": "code",
     "collapsed": false,
     "input": [
      "mic.thickness = 15"
     ],
     "language": "python",
     "metadata": {},
     "outputs": [],
     "prompt_number": 4
    },
    {
     "cell_type": "code",
     "collapsed": false,
     "input": [
      "mic.background = 200"
     ],
     "language": "python",
     "metadata": {},
     "outputs": [],
     "prompt_number": 5
    }
   ],
   "metadata": {}
  }
 ]
}